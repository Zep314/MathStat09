{
 "cells": [
  {
   "cell_type": "markdown",
   "id": "c23e201a",
   "metadata": {},
   "source": [
    "# Теория вероятностей и математическая статистика (семинары)\n",
    "## Урок 9. Линейная регрессия. Логистическая регрессия"
   ]
  },
  {
   "cell_type": "code",
   "execution_count": 1,
   "id": "183c7f98",
   "metadata": {},
   "outputs": [],
   "source": [
    "import scipy.stats as stats \n",
    "import numpy as np \n",
    "import matplotlib.pyplot as plt \n",
    "from sklearn.linear_model import LinearRegression \n",
    "import matplotlib.pyplot as plt \n",
    "model = LinearRegression() "
   ]
  },
  {
   "cell_type": "markdown",
   "id": "19de149c",
   "metadata": {},
   "source": [
    "## Задача 1\n",
    "Даны значения величины заработной платы заемщиков банка (zp) и значения их поведенческого кредитного скоринга (ks):\n",
    "\n",
    "zp = \\[35, 45, 190, 200, 40, 70, 54, 150, 120, 110\\], \n",
    "\n",
    "ks = \\[401, 574, 874, 919, 459, 739, 653, 902, 746, 832\\]. \n",
    "\n",
    "Используя математические операции, посчитать коэффициенты линейной регрессии, приняв за X заработную плату (то есть, zp - признак), а за y - значения скорингового балла (то есть, ks - целевая переменная). \n",
    "\n",
    "Произвести расчет как с использованием intercept, так и без.\n"
   ]
  },
  {
   "cell_type": "markdown",
   "id": "50fb4c88",
   "metadata": {},
   "source": [
    "### Решение\n",
    "Визуализируем наши данные"
   ]
  },
  {
   "cell_type": "code",
   "execution_count": 2,
   "id": "64287e41",
   "metadata": {},
   "outputs": [],
   "source": [
    "zp = np.array([35, 45, 190, 200, 40, 70, 54, 150, 120, 110])\n",
    "ks = np.array([401, 574, 874, 919, 459, 739, 653, 902, 746, 832])"
   ]
  },
  {
   "cell_type": "code",
   "execution_count": 3,
   "id": "51d9cf86",
   "metadata": {},
   "outputs": [
    {
     "data": {
      "image/png": "[encoded data removed]",
      "text/plain": [
       "<Figure size 432x288 with 1 Axes>"
      ]
     },
     "metadata": {
      "needs_background": "light"
     },
     "output_type": "display_data"
    }
   ],
   "source": [
    "plt.scatter(zp,ks)\n",
    "plt.show()"
   ]
  },
  {
   "cell_type": "markdown",
   "id": "5b7992ac",
   "metadata": {},
   "source": [
    "Вычислим коэффициенты b0 и b1 для нашей модели, а так же - коэффициент детерминации"
   ]
  },
  {
   "cell_type": "code",
   "execution_count": 4,
   "id": "2d256d05",
   "metadata": {},
   "outputs": [
    {
     "name": "stdout",
     "output_type": "stream",
     "text": [
      "b0 = 444.17735732435955; b1 = 2.6205388824027653; r = 0.7876386635293682\n"
     ]
    }
   ],
   "source": [
    "n = len(zp)\n",
    "b1 = (n*np.sum(zp*ks) - np.sum(zp)*np.sum(ks)) / (n*np.sum(zp**2) - np.sum(zp)**2)\n",
    "b0 = np.mean(ks) - b1 * np.mean(zp)\n",
    "r = (np.corrcoef(zp,ks)[1,0])**2\n",
    "print(f'b0 = {b0}; b1 = {b1}; r = {r}')\n",
    "# b0 - intercept\n",
    "# b1 - slope\n",
    "# r - coefficient of determination"
   ]
  },
  {
   "cell_type": "markdown",
   "id": "165941e4",
   "metadata": {},
   "source": [
    "Проверим наши вычисления со встроенными функциями:"
   ]
  },
  {
   "cell_type": "code",
   "execution_count": 5,
   "id": "489e057a",
   "metadata": {},
   "outputs": [
    {
     "name": "stdout",
     "output_type": "stream",
     "text": [
      "coefficient of determination: 0.7876386635293686\n",
      "intercept: 444.1773573243596\n",
      "slope: [2.62053888]\n"
     ]
    }
   ],
   "source": [
    "zp_reshaped = zp.reshape(-1,1)\n",
    "model.fit(zp_reshaped, ks) \n",
    "r_sq = model.score(zp_reshaped, ks) \n",
    "print('coefficient of determination:', r_sq) \n",
    "print('intercept:', model.intercept_) \n",
    "print('slope:', model.coef_) "
   ]
  },
  {
   "cell_type": "markdown",
   "id": "dcc687db",
   "metadata": {},
   "source": [
    "Таким образом наша модель будет выглядеть:\n",
    "\n",
    "$y = 444.18 + 2.62 * x$"
   ]
  },
  {
   "cell_type": "markdown",
   "id": "122f4f85",
   "metadata": {},
   "source": [
    "Визуализируем нашу модель:"
   ]
  },
  {
   "cell_type": "code",
   "execution_count": 6,
   "id": "cb2d9061",
   "metadata": {},
   "outputs": [
    {
     "data": {
      "image/png": "[encoded data removed]",
      "text/plain": [
       "<Figure size 432x288 with 1 Axes>"
      ]
     },
     "metadata": {
      "needs_background": "light"
     },
     "output_type": "display_data"
    }
   ],
   "source": [
    "plt.scatter(zp, ks) \n",
    "plt.plot(zp, 444.18 + 2.62 * zp) \n",
    "plt.show() "
   ]
  },
  {
   "cell_type": "markdown",
   "id": "3f8f1244",
   "metadata": {},
   "source": [
    "### Ответ:\n",
    "$𝑦=444.18+2.62∗𝑥$"
   ]
  },
  {
   "cell_type": "markdown",
   "id": "0943f43a",
   "metadata": {},
   "source": [
    "# \n",
    "## Задача 2\n",
    "Посчитать коэффициент линейной регрессии при заработной плате (zp), используя градиентный спуск (без intercept)."
   ]
  },
  {
   "cell_type": "markdown",
   "id": "7858b13e",
   "metadata": {},
   "source": [
    "### Решение"
   ]
  },
  {
   "cell_type": "code",
   "execution_count": 7,
   "id": "da080d7b",
   "metadata": {},
   "outputs": [
    {
     "name": "stdout",
     "output_type": "stream",
     "text": [
      "Iteration = 0, B1 = 0.25952808, mse=493237.7212546963\n",
      "Iteration = 500, B1 = 5.889815595583751, mse=56516.858416040064\n",
      "Iteration = 1000, B1 = 5.8898204201285544, mse=56516.85841571941\n",
      "Iteration = 1500, B1 = 5.889820420132673, mse=56516.85841571943\n",
      "Iteration = 2000, B1 = 5.889820420132673, mse=56516.85841571943\n",
      "Iteration = 2500, B1 = 5.889820420132673, mse=56516.85841571943\n"
     ]
    }
   ],
   "source": [
    "def mse_(B1, y=ks, x = zp, n = len(zp)):\n",
    "    return np.sum((B1 * x - y)**2) / n\n",
    "alpha = 1e-6\n",
    "B1 = 0.1\n",
    "n = len(zp)\n",
    "for i in range(3000):\n",
    "    B1 -= alpha * (2/n) * np.sum((B1 * zp - ks) * zp)\n",
    "    if i % 500 == 0:\n",
    "        print('Iteration = {i}, B1 = {B1}, mse={mse}'.format(i=i,B1=B1,mse=mse_(B1)))"
   ]
  },
  {
   "cell_type": "markdown",
   "id": "8e745c42",
   "metadata": {},
   "source": [
    "### Ответ:\n",
    "Коэффициент линейной регрессии равен B1 = 5.889820420132673"
   ]
  },
  {
   "cell_type": "markdown",
   "id": "66d5fbca",
   "metadata": {},
   "source": [
    "# \n",
    "## Задача 3\n",
    "Произвести вычисления как в пункте 2, но с вычислением intercept. Учесть, что изменение коэффициентов должно производиться на каждом шаге одновременно (то есть изменение одного коэффициента не должно влиять на изменение другого во время одной итерации)."
   ]
  },
  {
   "cell_type": "markdown",
   "id": "058ef4c9",
   "metadata": {},
   "source": [
    "### Решение"
   ]
  },
  {
   "cell_type": "code",
   "execution_count": 21,
   "id": "acb8daf6",
   "metadata": {},
   "outputs": [
    {
     "name": "stdout",
     "output_type": "stream",
     "text": [
      "Iteration = 0, B0 = 699.76, B1 = 0.117616752, mse2=28366.194016105852\n",
      "Iteration = 500, B0 = 451.8421395386835, B1 = 2.545477630871315, mse2=6490.106541980606\n",
      "Iteration = 1000, B0 = 444.407219907272, B1 = 2.6182878369495213, mse2=6470.431911817227\n",
      "Iteration = 1500, B0 = 444.18425077619463, B1 = 2.6204713747935937, mse2=6470.4142171050225\n",
      "Iteration = 2000, B0 = 444.17756405517065, B1 = 2.6205368578868717, mse2=6470.414201190986\n",
      "Iteration = 2500, B0 = 444.17736352410225, B1 = 2.6205388216886534, mse2=6470.4142011766735\n"
     ]
    }
   ],
   "source": [
    "def mse2_(B0, B1, y=ks, x = zp, n = len(zp)):\n",
    "    return np.sum((B0 + B1 * x - y)**2) / n\n",
    "\n",
    "alpha = 1e-6\n",
    "B1 = 0.1\n",
    "n = len(zp)\n",
    "\n",
    "for i in range(3000):\n",
    "    B0 = np.mean(ks) - B1 * np.mean(zp)\n",
    "    B1 -= alpha * (2/n) * np.sum((B0 + B1 * zp - ks) * zp)\n",
    "    if i % 500 == 0:\n",
    "        print('Iteration = {i}, B0 = {B0}, B1 = {B1}, mse2={mse}'.format(i=i,B0=B0,B1=B1,mse=mse2_(B0,B1)))\n",
    "        "
   ]
  },
  {
   "cell_type": "markdown",
   "id": "ef48f1ee",
   "metadata": {},
   "source": [
    "Таким образом наша модель будет выглядеть:\n",
    "\n",
    "$y = 444.18 + 2.62 * x$"
   ]
  },
  {
   "cell_type": "code",
   "execution_count": 16,
   "id": "e4033f76",
   "metadata": {},
   "outputs": [
    {
     "data": {
      "image/png": "[encoded data removed]",
      "text/plain": [
       "<Figure size 432x288 with 1 Axes>"
      ]
     },
     "metadata": {
      "needs_background": "light"
     },
     "output_type": "display_data"
    }
   ],
   "source": [
    "plt.scatter(zp, ks) \n",
    "plt.plot(zp, 444.18 + 2.62 * zp) \n",
    "plt.show() "
   ]
  },
  {
   "cell_type": "markdown",
   "id": "82f6238c",
   "metadata": {},
   "source": [
    "### Ответ:\n",
    "Коэффициенты линейной регрессии равены:\n",
    "\n",
    "B0 = 444.18\n",
    "\n",
    "B1 = 2.62\n",
    "\n",
    "Модель: $ y = 444.18 + 2.62 * x$"
   ]
  },
  {
   "cell_type": "code",
   "execution_count": null,
   "id": "df924ad0",
   "metadata": {},
   "outputs": [],
   "source": []
  }
 ],
 "metadata": {
  "kernelspec": {
   "display_name": "Python 3 (ipykernel)",
   "language": "python",
   "name": "python3"
  },
  "language_info": {
   "codemirror_mode": {
    "name": "ipython",
    "version": 3
   },
   "file_extension": ".py",
   "mimetype": "text/x-python",
   "name": "python",
   "nbconvert_exporter": "python",
   "pygments_lexer": "ipython3",
   "version": "3.9.12"
  }
 },
 "nbformat": 4,
 "nbformat_minor": 5
}
